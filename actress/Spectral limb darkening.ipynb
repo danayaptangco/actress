{
 "cells": [
  {
   "cell_type": "code",
   "execution_count": 1,
   "id": "6d553ba5",
   "metadata": {},
   "outputs": [],
   "source": [
    "import numpy as np\n",
    "import matplotlib.pyplot as plt\n",
    "from scipy.integrate import simps\n",
    "from scipy.optimize import curve_fit"
   ]
  },
  {
   "cell_type": "code",
   "execution_count": null,
   "id": "56db4eb0",
   "metadata": {},
   "outputs": [],
   "source": [
    "cd ./As_intensity"
   ]
  },
  {
   "cell_type": "code",
   "execution_count": 4,
   "id": "0bc33991",
   "metadata": {},
   "outputs": [],
   "source": [
    "def resort(t,f):\n",
    "    t = np.array(t)\n",
    "    f = np.array(f)\n",
    "    array = np.column_stack([t,f])\n",
    "    new_array= array[np.argsort(array[:,0])]\n",
    "    new_t = new_array[:,0]\n",
    "    new_f = new_array[:,1]\n",
    "    return new_t, new_f"
   ]
  },
  {
   "cell_type": "code",
   "execution_count": 6,
   "id": "f8d983a9",
   "metadata": {},
   "outputs": [],
   "source": [
    "data = np.loadtxt('limb_atlkurab_vt1_K0_hydromol_means.txt', skiprows=2)"
   ]
  },
  {
   "cell_type": "code",
   "execution_count": 7,
   "id": "1dab1966",
   "metadata": {},
   "outputs": [],
   "source": [
    "wavelength = data[:,0]\n",
    "\n",
    "wavelength_m = []\n",
    "for i in wavelength:\n",
    "    new = i*1e-9\n",
    "    wavelength_m.append(new)\n",
    "    \n",
    "freq = []\n",
    "for i in wavelength_m:\n",
    "    new = (3e8)/i\n",
    "    freq.append(new)"
   ]
  },
  {
   "cell_type": "code",
   "execution_count": 8,
   "id": "6968c6d1",
   "metadata": {},
   "outputs": [],
   "source": [
    "intensity_si = []\n",
    "for i in range(1,10):\n",
    "    intensity1_cgs = data[:,i]\n",
    "    intensity1_si = []\n",
    "    for j in intensity1_cgs:\n",
    "        new = (j*1e-7)*(100**2)\n",
    "        intensity1_si.append(new)\n",
    "    intensity_si.append(intensity1_si)"
   ]
  },
  {
   "cell_type": "code",
   "execution_count": 9,
   "id": "334f3111",
   "metadata": {},
   "outputs": [
    {
     "name": "stdout",
     "output_type": "stream",
     "text": [
      "3.49e-07\n",
      "2.995e-06\n"
     ]
    }
   ],
   "source": [
    "wav_lower = 350e-9 #set lower limit on wavelength\n",
    "wav_higher = 3000e-9 #set upper limit on wavelength\n",
    "\n",
    "val_low = []\n",
    "val_high = []\n",
    "for i in range(0,len(wavelength_m)):\n",
    "    new_low = abs(wav_lower - wavelength_m[i])\n",
    "    new_high = abs(wav_higher - wavelength_m[i])\n",
    "    val_low.append(new_low)\n",
    "    val_high.append(new_high)\n",
    "indx_low = val_low.index(min(val_low))\n",
    "indx_high = val_high.index(min(val_high))\n",
    "print(wavelength_m[indx_low])\n",
    "print(wavelength_m[indx_high])"
   ]
  },
  {
   "cell_type": "code",
   "execution_count": 10,
   "id": "cbe40820",
   "metadata": {},
   "outputs": [],
   "source": [
    "def model_func(x, a, b):\n",
    "    mu = np.sqrt(1-(x/np.pi))\n",
    "    return area_total[0] * (1-(a*(1-(mu**b))))\n",
    "\n",
    "    #area_total[0] * (1-(a*(1-(mu**b))))\n",
    "\n",
    "wavs = []\n",
    "I0s = []\n",
    "a_bests = []\n",
    "b_bests = []\n",
    "wavelength_m=list(wavelength_m)\n",
    "for i in range(indx_low,indx_high+1):\n",
    "    if i%30 == 0:\n",
    "        delta_freq = ((-(3e8/(wavelength_m[i+1]))+(3e8/(wavelength_m[i])))/2) + ((-(3e8/(wavelength_m[i]))+(3e8/(wavelength_m[i-1])))/2)\n",
    "    \n",
    "        I = []\n",
    "        for j in range(0,9):\n",
    "            new = intensity_si[j][i] * delta_freq\n",
    "            I.append(new)\n",
    "        I = np.asarray(I)\n",
    "    \n",
    "        area_total = I\n",
    "        costheta = [1,0.9,0.8,0.7,0.6,0.5,0.4,0.3,0.2]\n",
    "        ster=[]\n",
    "        for k in costheta:\n",
    "            new = (np.pi)*(1-(k**2))\n",
    "            ster.append(new)\n",
    "    \n",
    "        xData = np.asarray(ster)\n",
    "        yData = np.asarray(area_total)\n",
    "\n",
    "        sigma = np.ones(len(xData))\n",
    "\n",
    "        popt, pcov = curve_fit(model_func, xData, yData, p0=(0.67595786, 0.7330585), sigma=sigma, maxfev=10000)\n",
    "\n",
    "        a_best = popt[0]\n",
    "        b_best = popt[1]\n",
    "    \n",
    "        wavs.append(wavelength_m[i])\n",
    "        I0s.append(area_total[0])\n",
    "        a_bests.append(a_best)\n",
    "        b_bests.append(b_best)\n",
    "    \n",
    "    v = np.column_stack((wavs,I0s,a_bests,b_bests))\n",
    "    np.savetxt('contrasttest2.txt', v)   "
   ]
  },
  {
   "cell_type": "code",
   "execution_count": null,
   "id": "b01e44f2",
   "metadata": {},
   "outputs": [],
   "source": []
  }
 ],
 "metadata": {
  "kernelspec": {
   "display_name": "Python3.9 (actress1)",
   "language": "python",
   "name": "python39_test1"
  },
  "language_info": {
   "codemirror_mode": {
    "name": "ipython",
    "version": 3
   },
   "file_extension": ".py",
   "mimetype": "text/x-python",
   "name": "python",
   "nbconvert_exporter": "python",
   "pygments_lexer": "ipython3",
   "version": "3.9.21"
  }
 },
 "nbformat": 4,
 "nbformat_minor": 5
}
