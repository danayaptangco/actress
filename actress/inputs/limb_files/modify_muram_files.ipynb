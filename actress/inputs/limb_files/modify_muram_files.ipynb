{
 "cells": [
  {
   "cell_type": "code",
   "execution_count": null,
   "id": "749e1ccd",
   "metadata": {},
   "outputs": [],
   "source": [
    "input_file = \"./df_combined_ssd_for_actress.txt\"   # replace with your file name\n",
    "output_file = \"./df_combined_ssd_for_actress_spaces.txt\" # or overwrite input.txt if desired\n",
    "\n",
    "with open(input_file, 'r') as infile, open(output_file, 'w') as outfile:\n",
    "    for line in infile:\n",
    "        # Split on comma and join with space\n",
    "        parts = line.strip().split(',')\n",
    "        new_line = ' '.join(parts)\n",
    "        outfile.write(new_line + '\\n')"
   ]
  }
 ],
 "metadata": {
  "language_info": {
   "name": "python"
  }
 },
 "nbformat": 4,
 "nbformat_minor": 5
}
